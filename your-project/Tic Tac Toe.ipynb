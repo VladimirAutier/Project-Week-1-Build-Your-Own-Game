{
 "cells": [
  {
   "cell_type": "code",
   "execution_count": 85,
   "metadata": {},
   "outputs": [
    {
     "name": "stdout",
     "output_type": "stream",
     "text": [
      "[[0, 0, 0], [0, 0, 0], [0, 0, 0]]\n"
     ]
    }
   ],
   "source": [
    "game=[[0,0,0],\n",
    "      [0,0,0],\n",
    "      [0,0,0],]\n",
    "print(game)"
   ]
  },
  {
   "cell_type": "code",
   "execution_count": 86,
   "metadata": {},
   "outputs": [
    {
     "data": {
      "text/plain": [
       "3"
      ]
     },
     "execution_count": 86,
     "metadata": {},
     "output_type": "execute_result"
    }
   ],
   "source": [
    "len(game)"
   ]
  },
  {
   "cell_type": "code",
   "execution_count": 2,
   "metadata": {},
   "outputs": [
    {
     "name": "stdout",
     "output_type": "stream",
     "text": "[1, 2, 2]\n[0, 1, 2]\n[0, 1, 2]\nPlayer 2 wins verticaly\n"
    }
   ],
   "source": [
    "game=[[1,2,2],\n",
    "      [0,1,2],\n",
    "      [0,1,2],]\n",
    "\n",
    "   \n",
    "def win(current_game):\n",
    "    \n",
    "      #horizontal\n",
    "        \n",
    "    for row in game:\n",
    "        print(row)\n",
    "        if row.count(row[0])==len(game) and row[0]!=0:\n",
    "            print(f\"Player {row[0]} wins horinzontaly\")\n",
    "\n",
    "    #vertical\n",
    "    \n",
    "    for col in range(len(game)):\n",
    "        ver=[]\n",
    "        for row in game:\n",
    "            ver.append(row[col])\n",
    "            if ver.count(ver[0])==len(game) and ver[0]!=0:\n",
    "                print(f\"Player {ver[0]} wins verticaly\")   \n",
    "    \n",
    "    #horizontal\n",
    "    \n",
    "    diags=[]\n",
    "    for col,row in enumerate(range(len(game))):\n",
    "        diags.append(game[row][col])\n",
    "        if diags.count(diags[0])==len(game) and diags[0]!=0:\n",
    "            print(f\"Player {diags[0]} wins diagonaly\")\n",
    "    diags=[]\n",
    "    for col,row in enumerate(reversed(range(len(game)))):\n",
    "        diags.append(game[row][col])     \n",
    "        if diags.count(diags[0])==len(game) and diags[0]!=0:\n",
    "            print(f\"Player {diags[0]} wins inv diagonaly\")\n",
    "        \n",
    "win(game)"
   ]
  },
  {
   "cell_type": "code",
   "execution_count": 91,
   "metadata": {},
   "outputs": [],
   "source": [
    "import os"
   ]
  },
  {
   "cell_type": "code",
   "execution_count": 96,
   "metadata": {},
   "outputs": [
    {
     "data": {
      "text/plain": [
       "'/Users/vladimirautier'"
      ]
     },
     "execution_count": 96,
     "metadata": {},
     "output_type": "execute_result"
    }
   ],
   "source": [
    "os.getcwd()"
   ]
  },
  {
   "cell_type": "code",
   "execution_count": null,
   "metadata": {},
   "outputs": [],
   "source": []
  }
 ],
 "metadata": {
  "file_extension": ".py",
  "kernelspec": {
   "display_name": "Python 3",
   "language": "python",
   "name": "python3"
  },
  "language_info": {
   "codemirror_mode": {
    "name": "ipython",
    "version": 3
   },
   "file_extension": ".py",
   "mimetype": "text/x-python",
   "name": "python",
   "nbconvert_exporter": "python",
   "pygments_lexer": "ipython3",
   "version": "3.7.3"
  },
  "mimetype": "text/x-python",
  "name": "python",
  "npconvert_exporter": "python",
  "pygments_lexer": "ipython3",
  "version": 3
 },
 "nbformat": 4,
 "nbformat_minor": 2
}